{
  "nbformat": 4,
  "nbformat_minor": 0,
  "metadata": {
    "colab": {
      "provenance": [],
      "authorship_tag": "ABX9TyPElo5A/zNcu3hSj4RyZr35",
      "include_colab_link": true
    },
    "kernelspec": {
      "name": "python3",
      "display_name": "Python 3"
    },
    "language_info": {
      "name": "python"
    }
  },
  "cells": [
    {
      "cell_type": "markdown",
      "metadata": {
        "id": "view-in-github",
        "colab_type": "text"
      },
      "source": [
        "<a href=\"https://colab.research.google.com/github/TongNguyenQuocHuy/Binxpro/blob/main/Untitled5.ipynb\" target=\"_parent\"><img src=\"https://colab.research.google.com/assets/colab-badge.svg\" alt=\"Open In Colab\"/></a>"
      ]
    },
    {
      "cell_type": "code",
      "execution_count": 13,
      "metadata": {
        "colab": {
          "base_uri": "https://localhost:8080/"
        },
        "id": "Px1o50AkkQjM",
        "outputId": "64867247-bbbd-41cf-eaf2-b92b2a59d31a"
      },
      "outputs": [
        {
          "output_type": "stream",
          "name": "stdout",
          "text": [
            "Nhập số đầu tiên a\n",
            "M ngu quá, nhập số khác đi\n",
            "Nhập số đầu tiên 1\n",
            "Nhập số thứ 2 2\n",
            "Nhập số thứ 323\n",
            "\n",
            "Average: 8.666666666666666\n",
            "Median: 2.0\n",
            "Range: 22.0\n"
          ]
        }
      ],
      "source": [
        "def calculate_statistics():\n",
        "  while True:\n",
        "    try:\n",
        "      num1 = float(input(\"Nhập số đầu tiên \"))\n",
        "      num2 = float(input(\"Nhập số thứ 2 \"))\n",
        "      num3 = float(input(\"Nhập số thứ 3\"))\n",
        "      average = (num1+num2+num3) / 3\n",
        "      if num1 <= num2 <= num3 or num1 >= num2 >= num3:\n",
        "                median = num2\n",
        "      elif num2 <= num1 <= num3 or num2 >= num1 >= num3:\n",
        "                median = num1\n",
        "      else:\n",
        "                median = num3\n",
        "      range = max(num1, num2, num3) - min(num1, num2, num3)\n",
        "      print(\"\\nAverage:\", average)\n",
        "      print(\"Median:\", median)\n",
        "      print(\"Range:\", range)\n",
        "      break\n",
        "    except:\n",
        "      print(\"M ngu quá, nhập số khác đi\")\n",
        "calculate_statistics()"
      ]
    }
  ]
}