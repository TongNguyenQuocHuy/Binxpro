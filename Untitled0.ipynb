{
  "nbformat": 4,
  "nbformat_minor": 0,
  "metadata": {
    "colab": {
      "provenance": [],
      "authorship_tag": "ABX9TyPHWmMEOPIvSSOULi8VZzb7",
      "include_colab_link": true
    },
    "kernelspec": {
      "name": "python3",
      "display_name": "Python 3"
    },
    "language_info": {
      "name": "python"
    }
  },
  "cells": [
    {
      "cell_type": "markdown",
      "metadata": {
        "id": "view-in-github",
        "colab_type": "text"
      },
      "source": [
        "<a href=\"https://colab.research.google.com/github/TongNguyenQuocHuy/Binxpro/blob/main/Untitled0.ipynb\" target=\"_parent\"><img src=\"https://colab.research.google.com/assets/colab-badge.svg\" alt=\"Open In Colab\"/></a>"
      ]
    },
    {
      "cell_type": "code",
      "execution_count": null,
      "metadata": {
        "colab": {
          "base_uri": "https://localhost:8080/"
        },
        "id": "jqKG19G8lMAY",
        "outputId": "863e9a53-6d88-439f-ab37-a9daa92a972f"
      },
      "outputs": [
        {
          "output_type": "stream",
          "name": "stdout",
          "text": [
            "Hello wolrd\n"
          ]
        }
      ],
      "source": [
        "print(\"Hello wolrd\")"
      ]
    },
    {
      "cell_type": "code",
      "source": [
        "###1. Given 5 variables: a = 10; b = “Hello”; c = 3.14; d = [1,2,3]; e = (1,2,3), what are their data types? (hint: using type() built-in function)\n",
        "\n",
        "\n",
        "\n",
        "a = 10\n",
        "b = \"Hello\"\n",
        "c = 3.14\n",
        "d = [1, 2, 3]\n",
        "e = (1, 2, 3)\n",
        "\n",
        "print(type(a))\n",
        "print(type(b))\n",
        "print(type(c))\n",
        "print(type(d))\n",
        "print(type(e))"
      ],
      "metadata": {
        "colab": {
          "base_uri": "https://localhost:8080/"
        },
        "id": "qWJwz4gsq1ls",
        "outputId": "9024d7c3-74e2-4803-9c7f-81860abda64b"
      },
      "execution_count": null,
      "outputs": [
        {
          "output_type": "stream",
          "name": "stdout",
          "text": [
            "<class 'int'>\n",
            "<class 'str'>\n",
            "<class 'float'>\n",
            "<class 'list'>\n",
            "<class 'tuple'>\n"
          ]
        }
      ]
    },
    {
      "cell_type": "code",
      "source": [
        "#2. Perform using string formatting (using f-Strings) and print function with 2 variables, name and age to print out this sentence: \"My name is Dan, and I am 18 years old.\"\n",
        "name = \"Huy\"\n",
        "age  = 19\n",
        "print(f\"My name is {name}, and I am {age} years old\")"
      ],
      "metadata": {
        "colab": {
          "base_uri": "https://localhost:8080/"
        },
        "id": "BN-SNuWyzP-4",
        "outputId": "37a33e0a-a64a-4860-afcd-d7bec613a682"
      },
      "execution_count": null,
      "outputs": [
        {
          "output_type": "stream",
          "name": "stdout",
          "text": [
            "My name is Huy, and I am 19 years old\n"
          ]
        }
      ]
    }
  ]
}